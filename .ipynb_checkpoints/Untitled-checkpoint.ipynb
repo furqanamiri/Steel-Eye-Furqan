{
 "cells": [
  {
   "cell_type": "code",
   "execution_count": null,
   "id": "f20d2176",
   "metadata": {},
   "outputs": [],
   "source": [
    "import filetoconvert.xml\n",
    "import xml.etree.ElementTree as Xet\n",
    "import pandas as pd\n",
    "\n",
    "cols = [\"FinInstrmGnlAttrbts.Id\", \"FinInstrmGnlAttrbts.FullNm\", \"FinInstrmGnlAttrbts.ClssfctnTp\" , \"FinInstrmGnlAttrbts.CmmdtyDerivInd\",\"FinInstrmGnlAttrbts.NtnlCcy\",\"Issr\"]\n",
    "rows = []\n",
    "\n",
    "# Parsing the XML file\n",
    "xmlparse = Xet.parse('filetoconvert.xml')\n",
    "root = xmlparse.getroot()\n",
    "for i in root:\n",
    "    FinInstrmGnlAttrbts.Id = i.find(\"FinInstrmGnlAttrbts.Id\").text\n",
    "\tFinInstrmGnlAttrbts.FullNm = i.find(\"FinInstrmGnlAttrbts.FullNm\").text\n",
    "\tFinInstrmGnlAttrbts.ClssfctnTp = i.find(\"FinInstrmGnlAttrbts.ClssfctnTp\").text\n",
    "    FinInstrmGnlAttrbts.CmmdtyDerivInd=i.find(FinInstrmGnlAttrbts.CmmdtyDerivInd).text\n",
    "    FinInstrmGnlAttrbts.NtnlCcy=i.find(FinInstrmGnlAttrbts.NtnlCcy).text\n",
    "    Issr=i.find(Issr).text\n",
    "\n",
    "\trows.append({\"FinInstrmGnlAttrbts.Id\": FinInstrmGnlAttrbts.Id,\n",
    "\t\t\t\t\"FinInstrmGnlAttrbts.FullNm\": FinInstrmGnlAttrbts.FullNm,\n",
    "\t\t\t\t\"FinInstrmGnlAttrbts.ClssfctnTp\": FinInstrmGnlAttrbts.ClssfctnTp\n",
    "                \"FinInstrmGnlAttrbts.CmmdtyDerivInd\":FinInstrmGnlAttrbts.CmmdtyDerivInd\n",
    "                \"FinInstrmGnlAttrbts.NtnlCcy\":FinInstrmGnlAttrbts.NtnlCcy\n",
    "                \"Issr\":Issr\n",
    "\t\t\t\t})\n",
    "\n",
    "df = pd.DataFrame(rows, columns=cols)\n",
    "\n",
    "# Writing dataframe to csv\n",
    "df.to_csv('output.csv')"
   ]
  }
 ],
 "metadata": {
  "kernelspec": {
   "display_name": "Python 3",
   "language": "python",
   "name": "python3"
  },
  "language_info": {
   "codemirror_mode": {
    "name": "ipython",
    "version": 3
   },
   "file_extension": ".py",
   "mimetype": "text/x-python",
   "name": "python",
   "nbconvert_exporter": "python",
   "pygments_lexer": "ipython3",
   "version": "3.8.8"
  }
 },
 "nbformat": 4,
 "nbformat_minor": 5
}
