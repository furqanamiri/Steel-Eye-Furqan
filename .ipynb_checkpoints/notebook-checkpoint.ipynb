{
 "cells": [
  {
   "cell_type": "code",
   "execution_count": null,
   "id": "10c88f65",
   "metadata": {},
   "outputs": [],
   "source": [
    "# Program to convert an xml\n",
    "# file to json file\n",
    "\n",
    "# import json module and xmltodict\n",
    "# module provided by python\n",
    "import json\n",
    "import xmltodict\n",
    "\n",
    "\n",
    "# open the input xml file and read\n",
    "# data in form of python dictionary\n",
    "# using xmltodict module\n",
    "with open(\"DLTINS_20210117_01of01.xml\",encoding='utf-8') as xml_file:\n",
    "\n",
    "    data_dict = xmltodict.parse(xml_file.read())\n",
    "    # xml_file.close()\n",
    "\n",
    "# generate the object using json.dumps()\n",
    "# corresponding to json data\n",
    "\n",
    "    json_data = json.dumps(data_dict)\n",
    "\n",
    "        # Write the json data to output\n",
    "        # json file\n",
    "    with open(\"data.json\", \"w\") as json_file:\n",
    "        json_file.write(json_data)\n",
    "            # json_file.close()\n",
    "#Code snippet taken fron geekforgeeks for faster implementation"
   ]
  },
  {
   "cell_type": "code",
   "execution_count": null,
   "id": "36579c89",
   "metadata": {},
   "outputs": [],
   "source": [
    "import json\n",
    "import csv\n",
    "\n",
    "#My main problem with firectly converting csv to xml was that the xml was so confusing to parse through \n",
    "# I initially palnned to go with a function i found for having a lambda function but my juptier notebook crashed from it so i opted to \n",
    "#use a familiar way , I have used json to csv convertion before , also my text fromat works better with json in visual studio\n",
    "#i have personally never worked with over 100mb of data and this complexity.\n",
    "\n",
    "with open('data.json') as json_file:\n",
    "    data = json.load(json_file)\n",
    "\n",
    "\n",
    "\n",
    "# now we will open a file for writing\n",
    "data_file = open('data_file.csv', 'w')\n",
    "data=data[\"BizData\"][\"Pyld\"][\"Document\"][\"FinInstrmRptgRefDataDltaRpt\"][\"FinInstrm\"]\n",
    "\n",
    "# create the csv writer object\n",
    "csv_writer = csv.writer(data_file)\n",
    "\n",
    "\n",
    "for x in data:\n",
    "    \n",
    "    if \"TermntdRcrd\" in x:\n",
    "        \n",
    "        TermntdRcrd=x[\"TermntdRcrd\"]\n",
    "    #     print (TermntdRcrd) \n",
    "    #This is basic for going through the keys and arrays so we can go to specific records needed\n",
    "\n",
    "        csv_writer.writerow([TermntdRcrd[\"FinInstrmGnlAttrbts\"][\"Id\"],\n",
    "                    TermntdRcrd[\"FinInstrmGnlAttrbts\"][\"FullNm\"],\n",
    "                    TermntdRcrd[\"FinInstrmGnlAttrbts\"][\"ClssfctnTp\"],\n",
    "                    TermntdRcrd[\"FinInstrmGnlAttrbts\"][\"CmmdtyDerivInd\"],\n",
    "                    TermntdRcrd[\"FinInstrmGnlAttrbts\"][\"NtnlCcy\"],\n",
    "                    TermntdRcrd[\"Issr\"]])\n",
    "                                                          \n",
    "\n",
    "data_file.close()\n",
    "#Code snippet taken fron geekforgeeks for faster implementation"
   ]
  },
  {
   "cell_type": "code",
   "execution_count": null,
   "id": "ebf6a8d2",
   "metadata": {},
   "outputs": [],
   "source": [
    "! pip install boto3"
   ]
  },
  {
   "cell_type": "code",
   "execution_count": null,
   "id": "722e1eb9",
   "metadata": {},
   "outputs": [],
   "source": [
    "! pip install awscli\n",
    "#https://boto3.amazonaws.com/v1/documentation/api/1.9.42/guide/quickstart.html\n",
    "# I had to make an aws account, configure it , used these documentation for sonfiguring and using awscli for configuring as i checked thats the right way to do it instead of making our files .\n",
    "#https://www.youtube.com/results?search_query=how+to+configure+aws+cli+in+windows Also used this for reference to create s3\n",
    "# bucket as I've never made a storage bucket for cloud platform and i was having paramet error from the documentation so\n",
    "# i implemented the way shown in video whick worked for me\n"
   ]
  },
  {
   "cell_type": "code",
   "execution_count": null,
   "id": "206ca2e5",
   "metadata": {},
   "outputs": [],
   "source": [
    "import boto3\n",
    "s3 = boto3.client('s3')"
   ]
  },
  {
   "cell_type": "code",
   "execution_count": null,
   "id": "0a6ed6da",
   "metadata": {},
   "outputs": [],
   "source": [
    "response=s3.create_bucket(\n",
    "    ACL='private',\n",
    "    Bucket='test'\n",
    ")"
   ]
  },
  {
   "cell_type": "code",
   "execution_count": null,
   "id": "fcace2f1",
   "metadata": {},
   "outputs": [],
   "source": [
    "data = open('data_file', 'rb')\n",
    "s3.Bucket('test-furqan').put_object(Key='data_file.csv', Body=data)\n",
    "#I found aws lambda but i tried many times and i could not resolve an error with a parameter for s3 bucket file uploading, it is \n",
    "#in the aws docs and i tried a video on it on youtube but i still could not make it work so i went for a simple implementation "
   ]
  },
  {
   "cell_type": "code",
   "execution_count": null,
   "id": "e7e9daa3",
   "metadata": {},
   "outputs": [],
   "source": []
  }
 ],
 "metadata": {
  "kernelspec": {
   "display_name": "Python 3",
   "language": "python",
   "name": "python3"
  },
  "language_info": {
   "codemirror_mode": {
    "name": "ipython",
    "version": 3
   },
   "file_extension": ".py",
   "mimetype": "text/x-python",
   "name": "python",
   "nbconvert_exporter": "python",
   "pygments_lexer": "ipython3",
   "version": "3.8.8"
  }
 },
 "nbformat": 4,
 "nbformat_minor": 5
}
